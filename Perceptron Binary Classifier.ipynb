{
 "cells": [
  {
   "cell_type": "markdown",
   "metadata": {},
   "source": [
    "<h1 style=\"text-align:center\">Perceptron Learning Algorithms (Binary Classifiers)<h1>\n",
    "\n",
    "## Inputs\n",
    "\n",
    "- $X:$ A matrix of `n` samples and `p` features.\n",
    "- $y:$ A vector of `n` target variable values for the `n` samples\n",
    "\n",
    "## How it works\n",
    "\n",
    "Assume weights $\\textbf{w}: \\{w_{1}, w_{2}, w_{3}, ..., {w_p}\\}$ have been learnt by the algorithm.\n",
    "\n",
    "It gets the decision function $\\phi (z) = \\sum_{i=1}^{p} w_{i}x_{i} = \\textbf{w}^{T}\\textbf{x}$ for a new/test sample.\n",
    "\n",
    "If $\\phi(z) \\ge \\theta $ it assigns the sample a value of $+1$, else $-1$\n",
    "\n",
    "Bringing $\\theta$ to the left side, we can treat $w_0 = - \\theta$ and $x_0 = 1$ so that if\n",
    "\n",
    "$ \\phi(z) = \\sum_{i=0}^{p}w_{i}x_{i} \\ge 0, \\hat{y} = +1$ else $\\hat{y} = -1$ \n",
    "\n",
    "## Basic Algorithm\n",
    "\n",
    "- Initialize weights $\\textbf{w}$ to be all zeros. (or small random values)\n",
    "\n",
    "- For each sample in the input matrix:\n",
    "\n",
    "  - Calculate the estimated target variable $\\hat{y}^{(i)} = \\text{sign}(\\sum_{i=0}^{p}w_{i}x_{i})$\n",
    "  \n",
    "  - Evaluate the updated weights using $\\Delta \\textbf{w} = \\eta (y^{(i)} - \\hat{y}^{(i)})\\textbf{x}$ ($\\eta$ may not be needed since it only scales the weights but doesn't change the sign of the perception)\n",
    "  \n",
    "  - Update weights to $\\textbf{w} = \\textbf{x} + \\Delta \\textbf{w}$\n",
    "\n",
    "\n",
    "In case of correct prediction, the weight remains unchanged.\n",
    "\n",
    "In case of incorrect prediction, the weight are pushed towards the direction of the target variable scaled by $\\textbf{x}$\n",
    "\n",
    "It is important to note that the **convergence** of the perceptron is only **guaranteed** if\n",
    "the two classes are **linearly separable** and the **learning rate** is sufficiently **small**. If the\n",
    "two classes can't be separated by a linear decision boundary, we can set a maximum\n",
    "number of passes over the training dataset (*epochs*) and/or a threshold for the\n",
    "number of tolerated misclassifications—the perceptron would never stop updating\n",
    "the weights otherwise\n",
    "\n",
    "i.e.\n",
    "\n",
    "Iterate until the iteration error: $\\displaystyle \\frac{1}{s} \\sum_{j=1}^{s} \\lvert \\hat {y}_{j} - y_{j} \\rvert < \\gamma$ (user-specified) or for a pre-determined number of iterations"
   ]
  },
  {
   "cell_type": "code",
   "execution_count": 6,
   "metadata": {
    "collapsed": true
   },
   "outputs": [],
   "source": [
    "import numpy as np\n",
    "\n",
    "class Perceptron:\n",
    "    \n",
    "    def __init__(self, eta=0.01, n_iter=10):\n",
    "        '''\n",
    "        eta : learning rate (between 0.0 and 1.0)\n",
    "        n_iter : number of passes over training data set\n",
    "        '''\n",
    "        self.eta = eta\n",
    "        self.n_iter = n_iter\n",
    "        \n",
    "    def fit(self, X, y):\n",
    "        '''\n",
    "        X : matrix (n x p)\n",
    "        y : target variable vector of n elements\n",
    "        '''\n",
    "        self.weights = np.zeros(X.shape[1] + 1)  # weights[0] = threshold theta\n",
    "        self.errors = []   # stores number of misclassifications each pass\n",
    "        \n",
    "        for _ in range(self.n_iter):\n",
    "            errors = 0\n",
    "            for X_i, y_i in zip(X, y):\n",
    "                delta_w = self.eta * (y_i - self.predict(X_i))\n",
    "                self.weights[1:] += delta_w * X_i\n",
    "                self.weights[0] += delta_w        # delta_w * 1 (x_0 = 1)\n",
    "                errors += int(delta_w != 0.0)     # delta_w == 0.0 implies correct classification\n",
    "            self.errors.append(errors)\n",
    "        return self\n",
    "    \n",
    "    def net_input(self, X):\n",
    "        return np.dot(X, self.weights[1:]) + self.weights[0]\n",
    "    \n",
    "    def predict(self, X):\n",
    "        return np.where(self.net_input(X) >= 0.0, 1, -1)"
   ]
  },
  {
   "cell_type": "markdown",
   "metadata": {},
   "source": [
    "## Extending Binary Classifier to Multi-Class Classification\n",
    "\n",
    "**One-vs.-All (OvA)**, or sometimes also called **One-vs.-Rest (OvR)**, is a\n",
    "technique, us to extend a binary classifier to multi-class problems. Using\n",
    "OvA, we can train one classifier per class, where the particular class\n",
    "is treated as the positive class and the samples from all other classes\n",
    "are considered as the negative class. If we were to classify a new data\n",
    "sample, we would use our $k$ - $\\phi (z)$ classifiers, where $k$ is the number of\n",
    "class labels, and assign the class label with the highest confidence to\n",
    "the particular sample. In the case of the perceptron, we would use OvA\n",
    "to choose the class label that is associated with the largest absolute net\n",
    "input value."
   ]
  },
  {
   "cell_type": "code",
   "execution_count": 8,
   "metadata": {
    "collapsed": false
   },
   "outputs": [],
   "source": [
    "# Loading the Iris dataset\n",
    "\n",
    "import pandas as pd\n",
    "\n",
    "df = pd.read_csv('https://archive.ics.uci.edu/ml/machine-learning-databases/iris/iris.data', header=None)"
   ]
  },
  {
   "cell_type": "code",
   "execution_count": 9,
   "metadata": {
    "collapsed": false
   },
   "outputs": [
    {
     "data": {
      "text/plain": [
       "(150, 5)"
      ]
     },
     "execution_count": 9,
     "metadata": {},
     "output_type": "execute_result"
    }
   ],
   "source": [
    "df.shape"
   ]
  },
  {
   "cell_type": "code",
   "execution_count": 10,
   "metadata": {
    "collapsed": false
   },
   "outputs": [
    {
     "data": {
      "text/html": [
       "<div>\n",
       "<table border=\"1\" class=\"dataframe\">\n",
       "  <thead>\n",
       "    <tr style=\"text-align: right;\">\n",
       "      <th></th>\n",
       "      <th>0</th>\n",
       "      <th>1</th>\n",
       "      <th>2</th>\n",
       "      <th>3</th>\n",
       "      <th>4</th>\n",
       "    </tr>\n",
       "  </thead>\n",
       "  <tbody>\n",
       "    <tr>\n",
       "      <th>0</th>\n",
       "      <td>5.1</td>\n",
       "      <td>3.5</td>\n",
       "      <td>1.4</td>\n",
       "      <td>0.2</td>\n",
       "      <td>Iris-setosa</td>\n",
       "    </tr>\n",
       "    <tr>\n",
       "      <th>1</th>\n",
       "      <td>4.9</td>\n",
       "      <td>3.0</td>\n",
       "      <td>1.4</td>\n",
       "      <td>0.2</td>\n",
       "      <td>Iris-setosa</td>\n",
       "    </tr>\n",
       "    <tr>\n",
       "      <th>2</th>\n",
       "      <td>4.7</td>\n",
       "      <td>3.2</td>\n",
       "      <td>1.3</td>\n",
       "      <td>0.2</td>\n",
       "      <td>Iris-setosa</td>\n",
       "    </tr>\n",
       "    <tr>\n",
       "      <th>3</th>\n",
       "      <td>4.6</td>\n",
       "      <td>3.1</td>\n",
       "      <td>1.5</td>\n",
       "      <td>0.2</td>\n",
       "      <td>Iris-setosa</td>\n",
       "    </tr>\n",
       "    <tr>\n",
       "      <th>4</th>\n",
       "      <td>5.0</td>\n",
       "      <td>3.6</td>\n",
       "      <td>1.4</td>\n",
       "      <td>0.2</td>\n",
       "      <td>Iris-setosa</td>\n",
       "    </tr>\n",
       "  </tbody>\n",
       "</table>\n",
       "</div>"
      ],
      "text/plain": [
       "     0    1    2    3            4\n",
       "0  5.1  3.5  1.4  0.2  Iris-setosa\n",
       "1  4.9  3.0  1.4  0.2  Iris-setosa\n",
       "2  4.7  3.2  1.3  0.2  Iris-setosa\n",
       "3  4.6  3.1  1.5  0.2  Iris-setosa\n",
       "4  5.0  3.6  1.4  0.2  Iris-setosa"
      ]
     },
     "execution_count": 10,
     "metadata": {},
     "output_type": "execute_result"
    }
   ],
   "source": [
    "df.head()"
   ]
  },
  {
   "cell_type": "code",
   "execution_count": 19,
   "metadata": {
    "collapsed": false
   },
   "outputs": [],
   "source": [
    "import matplotlib.pyplot as plt"
   ]
  },
  {
   "cell_type": "code",
   "execution_count": 67,
   "metadata": {
    "collapsed": false
   },
   "outputs": [],
   "source": [
    "# Select first 100 to get only Setosa vs Versicolor data (ignore Virginica)\n",
    "# TODO: Try taking first 100 as class 1 and last 50 as class 2\n",
    "\n",
    "y = df.iloc[0:100, 4].values\n",
    "y = np.where(y == \"Iris-setosa\", -1, 1)"
   ]
  },
  {
   "cell_type": "code",
   "execution_count": 68,
   "metadata": {
    "collapsed": false
   },
   "outputs": [],
   "source": [
    "X = df.iloc[0:100, [0,2]].values"
   ]
  },
  {
   "cell_type": "code",
   "execution_count": 69,
   "metadata": {
    "collapsed": true
   },
   "outputs": [],
   "source": [
    "def shuffle_in_unison_inplace(a, b):\n",
    "    assert len(a) == len(b)\n",
    "    p = numpy.random.permutation(len(a))\n",
    "    return a[p], b[p]"
   ]
  },
  {
   "cell_type": "code",
   "execution_count": 70,
   "metadata": {
    "collapsed": false
   },
   "outputs": [
    {
     "data": {
      "image/png": "[encoded data removed]",
      "text/plain": [
       "<matplotlib.figure.Figure at 0x1f68dda2198>"
      ]
     },
     "metadata": {},
     "output_type": "display_data"
    }
   ],
   "source": [
    "plt.scatter(X[:50, 0], X[:50, 1], color=\"red\", marker=\"o\", label=\"setosa\")\n",
    "plt.scatter(X[50:100, 0], X[50:100, 1], color=\"blue\", marker=\"x\", label=\"versicolor\")\n",
    "plt.xlabel(\"petal length\")\n",
    "plt.ylabel(\"sepal length\")\n",
    "plt.legend(loc=\"upper left\")\n",
    "plt.show()"
   ]
  },
  {
   "cell_type": "code",
   "execution_count": 71,
   "metadata": {
    "collapsed": false
   },
   "outputs": [
    {
     "data": {
      "image/png": "[encoded data removed]",
      "text/plain": [
       "<matplotlib.figure.Figure at 0x1f68de57390>"
      ]
     },
     "metadata": {},
     "output_type": "display_data"
    }
   ],
   "source": [
    "ppn = Perceptron(0.1, 10)\n",
    "ppn.fit(X, y)\n",
    "plt.plot(range(1, len(ppn.errors) + 1), ppn.errors, marker=\"o\")\n",
    "plt.xlabel(\"epochs\")\n",
    "plt.ylabel(\"Number of misclassifications\")\n",
    "plt.show()"
   ]
  },
  {
   "cell_type": "code",
   "execution_count": 72,
   "metadata": {
    "collapsed": false
   },
   "outputs": [],
   "source": [
    "from matplotlib.colors import ListedColormap\n",
    "\n",
    "def plot_decision_regions(X, y, classifier, resolution=0.02):\n",
    "    \n",
    "    # setup marker generator and color map\n",
    "    markers = (\"s\",  \"x\", \"o\", \"^\", \"v\")\n",
    "    colors = (\"red\", \"blue\", \"lightgreen\", \"gray\", \"cyan\")\n",
    "    \n",
    "    cmap = ListedColormap(colors[:len(np.unique(y))])\n",
    "    \n",
    "    #plot the decision surface\n",
    "    x1_min, x1_max = X[:, 0].min() - 1, X[:, 0].max() + 1\n",
    "    x2_min, x2_max = X[:, 1].min() - 1, X[:, 1].max() + 1\n",
    "    xx1, xx2 = np.meshgrid(np.arange(x1_min, x1_max, resolution), np.arange(x2_min, x2_max, resolution))\n",
    "    \n",
    "    Z = classifier.predict(np.array([xx1.ravel(), xx2.ravel()]).T)\n",
    "    Z = Z.reshape(xx1.shape)\n",
    "    \n",
    "    plt.contourf(xx1, xx2, Z, alpha=0.4, cmap=cmap)\n",
    "    plt.xlim(xx1.min(), xx1.max())\n",
    "    plt.ylim(xx2.min(), xx2.max())\n",
    "    \n",
    "    #plot class samples\n",
    "    for idx, cl in enumerate(np.unique(y)):\n",
    "        plt.scatter(x=X[y == cl, 0], y=X[y == cl, 1], alpha=0.8, c=cmap(idx), marker=markers[idx], label=cl)"
   ]
  },
  {
   "cell_type": "code",
   "execution_count": 73,
   "metadata": {
    "collapsed": false
   },
   "outputs": [
    {
     "data": {
      "image/png": "[encoded data removed]",
      "text/plain": [
       "<matplotlib.figure.Figure at 0x1f68ddf2780>"
      ]
     },
     "metadata": {},
     "output_type": "display_data"
    }
   ],
   "source": [
    "plot_decision_regions(X, y, classifier=ppn)\n",
    "plt.xlabel('sepal length [cm]')\n",
    "plt.ylabel('petal length [cm]')\n",
    "plt.legend(loc='upper left')\n",
    "plt.show()"
   ]
  },
  {
   "cell_type": "code",
   "execution_count": null,
   "metadata": {
    "collapsed": false
   },
   "outputs": [],
   "source": []
  }
 ],
 "metadata": {
  "kernelspec": {
   "display_name": "Python 3",
   "language": "python",
   "name": "python3"
  },
  "language_info": {
   "codemirror_mode": {
    "name": "ipython",
    "version": 3
   },
   "file_extension": ".py",
   "mimetype": "text/x-python",
   "name": "python",
   "nbconvert_exporter": "python",
   "pygments_lexer": "ipython3",
   "version": "3.5.1"
  }
 },
 "nbformat": 4,
 "nbformat_minor": 1
}
